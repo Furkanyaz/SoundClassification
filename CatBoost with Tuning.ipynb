{
 "cells": [
  {
   "cell_type": "markdown",
   "id": "13b3557a",
   "metadata": {},
   "source": [
    "# Sound Classification with CatBoost and Hyperparameter Tuning"
   ]
  },
  {
   "cell_type": "code",
   "execution_count": 1,
   "id": "53d8f280",
   "metadata": {},
   "outputs": [],
   "source": [
    "import os\n",
    "import numpy as np\n",
    "import pandas as pd\n",
    "import librosa as lb\n",
    "import IPython.display as ipd\n",
    "import matplotlib.pyplot as plt\n",
    "import tensorflow as tf\n",
    "from tensorflow import keras\n",
    "from tensorflow.keras import Sequential, layers\n",
    "from tensorflow.keras.utils import to_categorical\n",
    "from sklearn.model_selection import train_test_split\n",
    "from sklearn.metrics import confusion_matrix, classification_report\n",
    "from tqdm import tqdm"
   ]
  },
  {
   "cell_type": "code",
   "execution_count": 2,
   "id": "6f2e952d",
   "metadata": {},
   "outputs": [
    {
     "name": "stdout",
     "output_type": "stream",
     "text": [
      "(1120, 4)\n"
     ]
    },
    {
     "data": {
      "text/html": [
       "<div>\n",
       "<style scoped>\n",
       "    .dataframe tbody tr th:only-of-type {\n",
       "        vertical-align: middle;\n",
       "    }\n",
       "\n",
       "    .dataframe tbody tr th {\n",
       "        vertical-align: top;\n",
       "    }\n",
       "\n",
       "    .dataframe thead th {\n",
       "        text-align: right;\n",
       "    }\n",
       "</style>\n",
       "<table border=\"1\" class=\"dataframe\">\n",
       "  <thead>\n",
       "    <tr style=\"text-align: right;\">\n",
       "      <th></th>\n",
       "      <th>slice_file_name</th>\n",
       "      <th>fold</th>\n",
       "      <th>classID</th>\n",
       "      <th>class</th>\n",
       "    </tr>\n",
       "  </thead>\n",
       "  <tbody>\n",
       "    <tr>\n",
       "      <th>0</th>\n",
       "      <td>purring (1).wav</td>\n",
       "      <td>1</td>\n",
       "      <td>0</td>\n",
       "      <td>purring</td>\n",
       "    </tr>\n",
       "    <tr>\n",
       "      <th>1</th>\n",
       "      <td>purring (2).wav</td>\n",
       "      <td>1</td>\n",
       "      <td>0</td>\n",
       "      <td>purring</td>\n",
       "    </tr>\n",
       "    <tr>\n",
       "      <th>2</th>\n",
       "      <td>purring (3).wav</td>\n",
       "      <td>1</td>\n",
       "      <td>0</td>\n",
       "      <td>purring</td>\n",
       "    </tr>\n",
       "    <tr>\n",
       "      <th>3</th>\n",
       "      <td>purring (4).wav</td>\n",
       "      <td>1</td>\n",
       "      <td>0</td>\n",
       "      <td>purring</td>\n",
       "    </tr>\n",
       "    <tr>\n",
       "      <th>4</th>\n",
       "      <td>purring (5).wav</td>\n",
       "      <td>1</td>\n",
       "      <td>0</td>\n",
       "      <td>purring</td>\n",
       "    </tr>\n",
       "  </tbody>\n",
       "</table>\n",
       "</div>"
      ],
      "text/plain": [
       "   slice_file_name  fold  classID    class\n",
       "0  purring (1).wav     1        0  purring\n",
       "1  purring (2).wav     1        0  purring\n",
       "2  purring (3).wav     1        0  purring\n",
       "3  purring (4).wav     1        0  purring\n",
       "4  purring (5).wav     1        0  purring"
      ]
     },
     "execution_count": 2,
     "metadata": {},
     "output_type": "execute_result"
    }
   ],
   "source": [
    "metadata = pd.read_csv('C:/Users/user/PycharmProjects/pythonProject/CatSound/metadata/cat2.csv')\n",
    "print(metadata.shape)\n",
    "metadata.head()"
   ]
  },
  {
   "cell_type": "code",
   "execution_count": 3,
   "id": "a9d36519",
   "metadata": {},
   "outputs": [
    {
     "data": {
      "text/plain": [
       "classID\n",
       "0     [purring]\n",
       "1        [meow]\n",
       "2    [grooming]\n",
       "3    [drinking]\n",
       "4          [wc]\n",
       "5      [eating]\n",
       "Name: class, dtype: object"
      ]
     },
     "execution_count": 3,
     "metadata": {},
     "output_type": "execute_result"
    }
   ],
   "source": [
    "classes = metadata.groupby('classID')['class'].unique()\n",
    "classes"
   ]
  },
  {
   "cell_type": "code",
   "execution_count": 4,
   "id": "7492d5f8",
   "metadata": {},
   "outputs": [],
   "source": [
    "import librosa\n",
    "import librosa.display"
   ]
  },
  {
   "cell_type": "code",
   "execution_count": 5,
   "id": "1d79bba6",
   "metadata": {},
   "outputs": [],
   "source": [
    "def feature_extractor(path):\n",
    "    data, simple_rate = librosa.load(path)\n",
    "    data = librosa.feature.mfcc(data,n_mfcc=128,sr=simple_rate)\n",
    "    data = np.mean(data,axis=1)\n",
    "    return data"
   ]
  },
  {
   "cell_type": "code",
   "execution_count": null,
   "id": "29e8c2df",
   "metadata": {
    "scrolled": true
   },
   "outputs": [],
   "source": [
    "#feature extraction with mfcc\n",
    "x, y = [], [] \n",
    "extracted_features=[]\n",
    "for i,rows in tqdm(metadata.iterrows()):\n",
    "    path = 'C:/Users/user/PycharmProjects/pythonProject/CatSound/audio/' + 'fold' + str(rows['fold']) + '/' + str(rows['slice_file_name'])\n",
    "    x.append(feature_extractor(path))\n",
    "    y.append(rows['classID'])\n",
    "    fe = feature_extractor(path)\n",
    "    final_class_labels=rows['class']\n",
    "    extracted_features.append([fe,final_class_labels])\n",
    "x = np.array(x)\n",
    "y = np.array(y)\n",
    "x.shape, y.shape"
   ]
  },
  {
   "cell_type": "code",
   "execution_count": 7,
   "id": "ba093c3d",
   "metadata": {},
   "outputs": [
    {
     "data": {
      "text/html": [
       "<div>\n",
       "<style scoped>\n",
       "    .dataframe tbody tr th:only-of-type {\n",
       "        vertical-align: middle;\n",
       "    }\n",
       "\n",
       "    .dataframe tbody tr th {\n",
       "        vertical-align: top;\n",
       "    }\n",
       "\n",
       "    .dataframe thead th {\n",
       "        text-align: right;\n",
       "    }\n",
       "</style>\n",
       "<table border=\"1\" class=\"dataframe\">\n",
       "  <thead>\n",
       "    <tr style=\"text-align: right;\">\n",
       "      <th></th>\n",
       "      <th>feature</th>\n",
       "      <th>class</th>\n",
       "    </tr>\n",
       "  </thead>\n",
       "  <tbody>\n",
       "    <tr>\n",
       "      <th>0</th>\n",
       "      <td>[-312.18478, 125.071014, -64.47501, 56.468628,...</td>\n",
       "      <td>purring</td>\n",
       "    </tr>\n",
       "    <tr>\n",
       "      <th>1</th>\n",
       "      <td>[-408.58997, 146.62447, 32.391697, 36.671593, ...</td>\n",
       "      <td>purring</td>\n",
       "    </tr>\n",
       "    <tr>\n",
       "      <th>2</th>\n",
       "      <td>[-440.81326, 190.86948, -21.095238, -6.7931995...</td>\n",
       "      <td>purring</td>\n",
       "    </tr>\n",
       "    <tr>\n",
       "      <th>3</th>\n",
       "      <td>[-373.53268, 150.26164, 44.241188, 31.615002, ...</td>\n",
       "      <td>purring</td>\n",
       "    </tr>\n",
       "    <tr>\n",
       "      <th>4</th>\n",
       "      <td>[-578.2753, 163.7805, 61.469208, 17.083605, -3...</td>\n",
       "      <td>purring</td>\n",
       "    </tr>\n",
       "  </tbody>\n",
       "</table>\n",
       "</div>"
      ],
      "text/plain": [
       "                                             feature    class\n",
       "0  [-312.18478, 125.071014, -64.47501, 56.468628,...  purring\n",
       "1  [-408.58997, 146.62447, 32.391697, 36.671593, ...  purring\n",
       "2  [-440.81326, 190.86948, -21.095238, -6.7931995...  purring\n",
       "3  [-373.53268, 150.26164, 44.241188, 31.615002, ...  purring\n",
       "4  [-578.2753, 163.7805, 61.469208, 17.083605, -3...  purring"
      ]
     },
     "execution_count": 7,
     "metadata": {},
     "output_type": "execute_result"
    }
   ],
   "source": [
    "#each audio has mfcc matrix\n",
    "extracted_features_df=pd.DataFrame(extracted_features,columns=['feature','class'])\n",
    "extracted_features_df.head()"
   ]
  },
  {
   "cell_type": "code",
   "execution_count": 8,
   "id": "330f5beb",
   "metadata": {},
   "outputs": [
    {
     "name": "stdout",
     "output_type": "stream",
     "text": [
      "\n",
      "Number of samples for Train set : 806\n",
      "Number of samples for Validation set : 202\n",
      "Number of samples for Test set : 112\n"
     ]
    }
   ],
   "source": [
    "xtrainval, xtest, ytrainval, ytest = train_test_split(x,y,test_size=0.1,stratify=y,random_state=387)\n",
    "xtrain, xvalid, ytrain, yvalid = train_test_split(xtrainval,ytrainval,test_size=0.2,stratify=ytrainval,random_state=387)\n",
    "print('\\nNumber of samples for Train set :',xtrain.shape[0])\n",
    "print('Number of samples for Validation set :',xvalid.shape[0])\n",
    "print('Number of samples for Test set :',xtest.shape[0])"
   ]
  },
  {
   "cell_type": "code",
   "execution_count": 9,
   "id": "437fe019",
   "metadata": {},
   "outputs": [
    {
     "data": {
      "text/plain": [
       "(806, 128)"
      ]
     },
     "execution_count": 9,
     "metadata": {},
     "output_type": "execute_result"
    }
   ],
   "source": [
    "xtrain.shape"
   ]
  },
  {
   "cell_type": "code",
   "execution_count": 10,
   "id": "bf88832d",
   "metadata": {},
   "outputs": [],
   "source": [
    "from catboost import CatBoostClassifier\n",
    "from catboost import CatBoost\n",
    "from catboost import Pool\n",
    "from catboost import cv\n",
    "from catboost.utils import eval_metric\n",
    "from catboost import Pool\n",
    "import catboost as cb"
   ]
  },
  {
   "cell_type": "code",
   "execution_count": 12,
   "id": "ede4d7c0",
   "metadata": {},
   "outputs": [],
   "source": [
    "model = cb.CatBoostClassifier(loss_function='MultiClass', \n",
    "                              eval_metric='Accuracy')"
   ]
  },
  {
   "cell_type": "code",
   "execution_count": 13,
   "id": "98dcd76b",
   "metadata": {},
   "outputs": [],
   "source": [
    "grid = {'depth': [4, 6, 10],\n",
    "        'l2_leaf_reg': [1, 3, 5,],\n",
    "        'iterations':[5,10,50],\n",
    "        'learning_rate':[0.01, 0.03, 0.1,1.0],\n",
    "        'bootstrap_type':['Bayesian', 'Bernoulli', 'MVS', 'No']}"
   ]
  },
  {
   "cell_type": "code",
   "execution_count": 15,
   "id": "33bc5674",
   "metadata": {},
   "outputs": [],
   "source": [
    "train_data = Pool(xtrain, ytrain)\n",
    "eval_data = Pool(xvalid, yvalid)"
   ]
  },
  {
   "cell_type": "code",
   "execution_count": null,
   "id": "0b6188ce",
   "metadata": {
    "scrolled": true
   },
   "outputs": [],
   "source": [
    "model.grid_search(grid,train_data,plot=True)"
   ]
  },
  {
   "cell_type": "code",
   "execution_count": 17,
   "id": "4fa3d5d5",
   "metadata": {
    "scrolled": true
   },
   "outputs": [
    {
     "data": {
      "application/vnd.jupyter.widget-view+json": {
       "model_id": "df0ce5bbe1d1466d9d0fe867ef3ea04d",
       "version_major": 2,
       "version_minor": 0
      },
      "text/plain": [
       "MetricVisualizer(layout=Layout(align_self='stretch', height='500px'))"
      ]
     },
     "metadata": {},
     "output_type": "display_data"
    },
    {
     "name": "stdout",
     "output_type": "stream",
     "text": [
      "0:\tlearn: 0.8163772\ttest: 0.7722772\tbest: 0.7722772 (0)\ttotal: 37ms\tremaining: 1.81s\n",
      "1:\tlearn: 0.8883375\ttest: 0.8019802\tbest: 0.8019802 (1)\ttotal: 69.3ms\tremaining: 1.66s\n",
      "2:\tlearn: 0.9193548\ttest: 0.8613861\tbest: 0.8613861 (2)\ttotal: 104ms\tremaining: 1.62s\n",
      "3:\tlearn: 0.9478908\ttest: 0.8861386\tbest: 0.8861386 (3)\ttotal: 137ms\tremaining: 1.57s\n",
      "4:\tlearn: 0.9677419\ttest: 0.9059406\tbest: 0.9059406 (4)\ttotal: 169ms\tremaining: 1.52s\n",
      "5:\tlearn: 0.9801489\ttest: 0.8861386\tbest: 0.9059406 (4)\ttotal: 202ms\tremaining: 1.48s\n",
      "6:\tlearn: 0.9950372\ttest: 0.9009901\tbest: 0.9059406 (4)\ttotal: 236ms\tremaining: 1.45s\n",
      "7:\tlearn: 0.9962779\ttest: 0.9306931\tbest: 0.9306931 (7)\ttotal: 268ms\tremaining: 1.41s\n",
      "8:\tlearn: 0.9987593\ttest: 0.9405941\tbest: 0.9405941 (8)\ttotal: 301ms\tremaining: 1.37s\n",
      "9:\tlearn: 0.9987593\ttest: 0.9455446\tbest: 0.9455446 (9)\ttotal: 334ms\tremaining: 1.33s\n",
      "10:\tlearn: 1.0000000\ttest: 0.9554455\tbest: 0.9554455 (10)\ttotal: 367ms\tremaining: 1.3s\n",
      "11:\tlearn: 1.0000000\ttest: 0.9504950\tbest: 0.9554455 (10)\ttotal: 399ms\tremaining: 1.26s\n",
      "12:\tlearn: 1.0000000\ttest: 0.9504950\tbest: 0.9554455 (10)\ttotal: 433ms\tremaining: 1.23s\n",
      "13:\tlearn: 1.0000000\ttest: 0.9504950\tbest: 0.9554455 (10)\ttotal: 465ms\tremaining: 1.2s\n",
      "14:\tlearn: 1.0000000\ttest: 0.9455446\tbest: 0.9554455 (10)\ttotal: 498ms\tremaining: 1.16s\n",
      "15:\tlearn: 1.0000000\ttest: 0.9653465\tbest: 0.9653465 (15)\ttotal: 530ms\tremaining: 1.13s\n",
      "16:\tlearn: 1.0000000\ttest: 0.9653465\tbest: 0.9653465 (15)\ttotal: 563ms\tremaining: 1.09s\n",
      "17:\tlearn: 1.0000000\ttest: 0.9702970\tbest: 0.9702970 (17)\ttotal: 595ms\tremaining: 1.06s\n",
      "18:\tlearn: 1.0000000\ttest: 0.9752475\tbest: 0.9752475 (18)\ttotal: 628ms\tremaining: 1.02s\n",
      "19:\tlearn: 1.0000000\ttest: 0.9702970\tbest: 0.9752475 (18)\ttotal: 660ms\tremaining: 989ms\n",
      "20:\tlearn: 1.0000000\ttest: 0.9702970\tbest: 0.9752475 (18)\ttotal: 693ms\tremaining: 957ms\n",
      "21:\tlearn: 1.0000000\ttest: 0.9702970\tbest: 0.9752475 (18)\ttotal: 726ms\tremaining: 924ms\n",
      "22:\tlearn: 1.0000000\ttest: 0.9702970\tbest: 0.9752475 (18)\ttotal: 759ms\tremaining: 891ms\n",
      "23:\tlearn: 1.0000000\ttest: 0.9752475\tbest: 0.9752475 (18)\ttotal: 790ms\tremaining: 856ms\n",
      "24:\tlearn: 1.0000000\ttest: 0.9752475\tbest: 0.9752475 (18)\ttotal: 824ms\tremaining: 824ms\n",
      "25:\tlearn: 1.0000000\ttest: 0.9752475\tbest: 0.9752475 (18)\ttotal: 857ms\tremaining: 791ms\n",
      "26:\tlearn: 1.0000000\ttest: 0.9801980\tbest: 0.9801980 (26)\ttotal: 888ms\tremaining: 757ms\n",
      "27:\tlearn: 1.0000000\ttest: 0.9801980\tbest: 0.9801980 (26)\ttotal: 921ms\tremaining: 724ms\n",
      "28:\tlearn: 1.0000000\ttest: 0.9851485\tbest: 0.9851485 (28)\ttotal: 954ms\tremaining: 691ms\n",
      "29:\tlearn: 1.0000000\ttest: 0.9851485\tbest: 0.9851485 (28)\ttotal: 986ms\tremaining: 657ms\n",
      "30:\tlearn: 1.0000000\ttest: 0.9851485\tbest: 0.9851485 (28)\ttotal: 1.02s\tremaining: 625ms\n",
      "31:\tlearn: 1.0000000\ttest: 0.9801980\tbest: 0.9851485 (28)\ttotal: 1.05s\tremaining: 592ms\n",
      "32:\tlearn: 1.0000000\ttest: 0.9801980\tbest: 0.9851485 (28)\ttotal: 1.08s\tremaining: 559ms\n",
      "33:\tlearn: 1.0000000\ttest: 0.9801980\tbest: 0.9851485 (28)\ttotal: 1.12s\tremaining: 526ms\n",
      "34:\tlearn: 1.0000000\ttest: 0.9801980\tbest: 0.9851485 (28)\ttotal: 1.15s\tremaining: 494ms\n",
      "35:\tlearn: 1.0000000\ttest: 0.9801980\tbest: 0.9851485 (28)\ttotal: 1.19s\tremaining: 462ms\n",
      "36:\tlearn: 1.0000000\ttest: 0.9801980\tbest: 0.9851485 (28)\ttotal: 1.22s\tremaining: 429ms\n",
      "37:\tlearn: 1.0000000\ttest: 0.9801980\tbest: 0.9851485 (28)\ttotal: 1.25s\tremaining: 396ms\n",
      "38:\tlearn: 1.0000000\ttest: 0.9801980\tbest: 0.9851485 (28)\ttotal: 1.28s\tremaining: 363ms\n",
      "39:\tlearn: 1.0000000\ttest: 0.9801980\tbest: 0.9851485 (28)\ttotal: 1.32s\tremaining: 329ms\n",
      "40:\tlearn: 1.0000000\ttest: 0.9801980\tbest: 0.9851485 (28)\ttotal: 1.35s\tremaining: 296ms\n",
      "41:\tlearn: 1.0000000\ttest: 0.9801980\tbest: 0.9851485 (28)\ttotal: 1.38s\tremaining: 263ms\n",
      "42:\tlearn: 1.0000000\ttest: 0.9801980\tbest: 0.9851485 (28)\ttotal: 1.41s\tremaining: 230ms\n",
      "43:\tlearn: 1.0000000\ttest: 0.9801980\tbest: 0.9851485 (28)\ttotal: 1.45s\tremaining: 197ms\n",
      "44:\tlearn: 1.0000000\ttest: 0.9801980\tbest: 0.9851485 (28)\ttotal: 1.48s\tremaining: 164ms\n",
      "45:\tlearn: 1.0000000\ttest: 0.9801980\tbest: 0.9851485 (28)\ttotal: 1.51s\tremaining: 132ms\n",
      "46:\tlearn: 1.0000000\ttest: 0.9801980\tbest: 0.9851485 (28)\ttotal: 1.55s\tremaining: 99ms\n",
      "47:\tlearn: 1.0000000\ttest: 0.9851485\tbest: 0.9851485 (28)\ttotal: 1.58s\tremaining: 65.9ms\n",
      "48:\tlearn: 1.0000000\ttest: 0.9851485\tbest: 0.9851485 (28)\ttotal: 1.61s\tremaining: 33ms\n",
      "49:\tlearn: 1.0000000\ttest: 0.9851485\tbest: 0.9851485 (28)\ttotal: 1.65s\tremaining: 0us\n",
      "\n",
      "bestTest = 0.9851485149\n",
      "bestIteration = 28\n",
      "\n",
      "Shrink model to first 29 iterations.\n"
     ]
    }
   ],
   "source": [
    "history = model.fit(train_data, \n",
    "          eval_set=eval_data,\n",
    "          early_stopping_rounds=50,\n",
    "          plot=True,\n",
    "          silent=False)"
   ]
  },
  {
   "cell_type": "code",
   "execution_count": 27,
   "id": "bed73343",
   "metadata": {},
   "outputs": [
    {
     "name": "stdout",
     "output_type": "stream",
     "text": [
      "\n",
      " The best score across ALL searched params:\n",
      " {'learn': {'Accuracy': 1.0, 'MultiClass': 0.002529426432783263}, 'validation': {'Accuracy': 0.9851485148514851, 'MultiClass': 0.05290394583637222}}\n"
     ]
    }
   ],
   "source": [
    "print(\"\\n The best score across ALL searched params:\\n\", model.best_score_)"
   ]
  },
  {
   "cell_type": "code",
   "execution_count": 29,
   "id": "5d78dcff",
   "metadata": {},
   "outputs": [],
   "source": [
    "from sklearn.metrics import confusion_matrix"
   ]
  },
  {
   "cell_type": "code",
   "execution_count": 39,
   "id": "1cb6e966",
   "metadata": {
    "scrolled": false
   },
   "outputs": [
    {
     "name": "stdout",
     "output_type": "stream",
     "text": [
      "\n",
      "Confusion Matrix :\n",
      "\n",
      "\n",
      "[[19  0  1  0  0  0]\n",
      " [ 0 19  0  0  0  1]\n",
      " [ 0  0 20  0  0  0]\n",
      " [ 0  0  0 19  0  1]\n",
      " [ 0  0  0  0 11  1]\n",
      " [ 0  0  0  0  0 20]]\n",
      "\n",
      "\n",
      "Classification Report : \n",
      "\n",
      "               precision    recall  f1-score   support\n",
      "\n",
      "           0       1.00      0.95      0.97        20\n",
      "           1       1.00      0.95      0.97        20\n",
      "           2       0.95      1.00      0.98        20\n",
      "           3       1.00      0.95      0.97        20\n",
      "           4       1.00      0.92      0.96        12\n",
      "           5       0.87      1.00      0.93        20\n",
      "\n",
      "    accuracy                           0.96       112\n",
      "   macro avg       0.97      0.96      0.96       112\n",
      "weighted avg       0.97      0.96      0.96       112\n",
      "\n"
     ]
    }
   ],
   "source": [
    "#Confusion matrix to calculate accuracy for each class\n",
    "ytrue = (ytest)\n",
    "ypred = (model.predict(xtest))\n",
    "print('\\nConfusion Matrix :\\n\\n')\n",
    "print(confusion_matrix(ytrue,ypred))\n",
    "print('\\n\\nClassification Report : \\n\\n',classification_report(ytrue,ypred))"
   ]
  },
  {
   "cell_type": "code",
   "execution_count": 75,
   "id": "e44dd69d",
   "metadata": {},
   "outputs": [],
   "source": [
    "model.save_model(\"model.py\")"
   ]
  },
  {
   "cell_type": "code",
   "execution_count": 53,
   "id": "e673425a",
   "metadata": {},
   "outputs": [
    {
     "data": {
      "text/plain": [
       "{'loss_function': 'MultiClass',\n",
       " 'eval_metric': 'Accuracy',\n",
       " 'depth': 6,\n",
       " 'l2_leaf_reg': 1,\n",
       " 'iterations': 50,\n",
       " 'learning_rate': 1.0,\n",
       " 'bootstrap_type': 'MVS'}"
      ]
     },
     "execution_count": 53,
     "metadata": {},
     "output_type": "execute_result"
    }
   ],
   "source": [
    "model.get_params()"
   ]
  }
 ],
 "metadata": {
  "kernelspec": {
   "display_name": "Python 3 (ipykernel)",
   "language": "python",
   "name": "python3"
  },
  "language_info": {
   "codemirror_mode": {
    "name": "ipython",
    "version": 3
   },
   "file_extension": ".py",
   "mimetype": "text/x-python",
   "name": "python",
   "nbconvert_exporter": "python",
   "pygments_lexer": "ipython3",
   "version": "3.9.11"
  }
 },
 "nbformat": 4,
 "nbformat_minor": 5
}
